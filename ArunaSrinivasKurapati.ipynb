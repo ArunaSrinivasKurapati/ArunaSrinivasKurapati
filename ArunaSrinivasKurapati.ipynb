{
  "nbformat": 4,
  "nbformat_minor": 0,
  "metadata": {
    "colab": {
      "name": "ArunaSrinivasKurapati.ipynb",
      "provenance": []
    },
    "kernelspec": {
      "name": "python3",
      "display_name": "Python 3"
    },
    "language_info": {
      "name": "python"
    }
  },
  "cells": [
    {
      "cell_type": "code",
      "metadata": {
        "id": "c-x8F3zlmQu-"
      },
      "source": [
        "import pandas as pd\n",
        "import numpy as np\n",
        "import matplotlib.pyplot as plt\n",
        "from sklearn import datasets"
      ],
      "execution_count": 1,
      "outputs": []
    },
    {
      "cell_type": "code",
      "metadata": {
        "id": "b7T7XdplmWuQ"
      },
      "source": [
        "data_ = datasets.make_moons(100)"
      ],
      "execution_count": 2,
      "outputs": []
    },
    {
      "cell_type": "code",
      "metadata": {
        "colab": {
          "base_uri": "https://localhost:8080/"
        },
        "id": "QEacD0zEmZ_7",
        "outputId": "fc9cb80b-eec7-48cd-fefd-4ef85ee62312"
      },
      "source": [
        "data_"
      ],
      "execution_count": 3,
      "outputs": [
        {
          "output_type": "execute_result",
          "data": {
            "text/plain": [
              "(array([[-8.38088105e-01,  5.45534901e-01],\n",
              "        [ 1.00000000e+00,  0.00000000e+00],\n",
              "        [ 6.72300890e-01,  7.40277997e-01],\n",
              "        [ 9.91790014e-01,  1.27877162e-01],\n",
              "        [-9.00968868e-01,  4.33883739e-01],\n",
              "        [ 1.90096887e+00,  6.61162609e-02],\n",
              "        [ 1.46253829e+00, -3.86599306e-01],\n",
              "        [-9.60230259e-02,  9.95379113e-01],\n",
              "        [ 7.18349350e-01,  6.95682551e-01],\n",
              "        [ 1.87131870e+00,  9.28244800e-03],\n",
              "        [ 1.57211666e+00, -3.20172255e-01],\n",
              "        [-1.00000000e+00,  1.22464680e-16],\n",
              "        [ 8.01413622e-01,  5.98110530e-01],\n",
              "        [ 8.20998618e-03,  3.72122838e-01],\n",
              "        [ 1.03205158e+00, -4.99486216e-01],\n",
              "        [ 4.27883340e-01, -3.20172255e-01],\n",
              "        [ 1.62348980e+00, -2.81831482e-01],\n",
              "        [-9.97945393e-01,  6.40702200e-02],\n",
              "        [-9.67294863e-01,  2.53654584e-01],\n",
              "        [-9.91790014e-01,  1.27877162e-01],\n",
              "        [ 1.99794539e+00,  4.35929780e-01],\n",
              "        [-5.18392568e-01,  8.55142763e-01],\n",
              "        [ 1.59599895e-01,  9.87181783e-01],\n",
              "        [ 2.38554042e-01, -1.48228395e-01],\n",
              "        [ 8.38088105e-01,  5.45534901e-01],\n",
              "        [ 9.03976974e-01, -4.95379113e-01],\n",
              "        [ 1.94905575e+00,  1.84891782e-01],\n",
              "        [ 1.84408430e-02,  3.08841371e-01],\n",
              "        [ 1.80141362e+00, -9.81105305e-02],\n",
              "        [ 7.15472413e-01, -4.58667853e-01],\n",
              "        [ 1.22252093e+00, -4.74927912e-01],\n",
              "        [ 7.61445958e-01,  6.48228395e-01],\n",
              "        [-9.81559157e-01,  1.91158629e-01],\n",
              "        [-6.72300890e-01,  7.40277997e-01],\n",
              "        [ 7.30832427e-02,  1.24732995e-01],\n",
              "        [ 1.76144596e+00, -1.48228395e-01],\n",
              "        [ 5.72116660e-01,  8.20172255e-01],\n",
              "        [ 3.45365054e-01,  9.38468422e-01],\n",
              "        [ 2.22520934e-01,  9.74927912e-01],\n",
              "        [ 3.76510198e-01, -2.81831482e-01],\n",
              "        [ 9.60230259e-02,  9.95379113e-01],\n",
              "        [ 8.71318704e-01,  4.90717552e-01],\n",
              "        [ 9.26916757e-01,  3.75267005e-01],\n",
              "        [-2.22520934e-01,  9.74927912e-01],\n",
              "        [ 9.90311321e-02,  6.61162609e-02],\n",
              "        [-4.04783343e-01,  9.14412623e-01],\n",
              "        [ 9.49055747e-01,  3.15108218e-01],\n",
              "        [-3.20515776e-02,  9.99486216e-01],\n",
              "        [ 3.27051370e-02,  2.46345416e-01],\n",
              "        [ 1.96729486e+00,  2.46345416e-01],\n",
              "        [ 5.18392568e-01,  8.55142763e-01],\n",
              "        [ 1.15959990e+00, -4.87181783e-01],\n",
              "        [-6.23489802e-01,  7.81831482e-01],\n",
              "        [ 1.34536505e+00, -4.38468422e-01],\n",
              "        [ 8.40400105e-01, -4.87181783e-01],\n",
              "        [ 5.37461710e-01, -3.86599306e-01],\n",
              "        [ 5.09442530e-02,  1.84891782e-01],\n",
              "        [-4.62538290e-01,  8.86599306e-01],\n",
              "        [ 3.27699110e-01, -2.40277997e-01],\n",
              "        [ 1.40478334e+00, -4.14412623e-01],\n",
              "        [-3.45365054e-01,  9.38468422e-01],\n",
              "        [ 6.23489802e-01,  7.81831482e-01],\n",
              "        [ 1.71834935e+00, -1.95682551e-01],\n",
              "        [ 1.61911895e-01, -4.55349012e-02],\n",
              "        [ 4.62538290e-01,  8.86599306e-01],\n",
              "        [ 9.00968868e-01,  4.33883739e-01],\n",
              "        [-2.84527587e-01,  9.58667853e-01],\n",
              "        [-7.61445958e-01,  6.48228395e-01],\n",
              "        [ 1.92691676e+00,  1.24732995e-01],\n",
              "        [ 1.83808810e+00, -4.55349012e-02],\n",
              "        [-9.26916757e-01,  3.75267005e-01],\n",
              "        [ 1.98155916e+00,  3.08841371e-01],\n",
              "        [ 6.54634946e-01, -4.38468422e-01],\n",
              "        [ 2.81650650e-01, -1.95682551e-01],\n",
              "        [ 7.77479066e-01, -4.74927912e-01],\n",
              "        [-8.01413622e-01,  5.98110530e-01],\n",
              "        [ 9.81559157e-01,  1.91158629e-01],\n",
              "        [ 4.81607432e-01, -3.55142763e-01],\n",
              "        [ 1.98586378e-01, -9.81105305e-02],\n",
              "        [ 5.95216657e-01, -4.14412623e-01],\n",
              "        [ 2.84527587e-01,  9.58667853e-01],\n",
              "        [ 1.09602303e+00, -4.95379113e-01],\n",
              "        [ 3.20515776e-02,  9.99486216e-01],\n",
              "        [-8.71318704e-01,  4.90717552e-01],\n",
              "        [-7.18349350e-01,  6.95682551e-01],\n",
              "        [ 1.28452759e+00, -4.58667853e-01],\n",
              "        [-9.49055747e-01,  3.15108218e-01],\n",
              "        [ 2.05460725e-03,  4.35929780e-01],\n",
              "        [-5.72116660e-01,  8.20172255e-01],\n",
              "        [ 1.99179001e+00,  3.72122838e-01],\n",
              "        [-1.59599895e-01,  9.87181783e-01],\n",
              "        [ 1.28681296e-01,  9.28244800e-03],\n",
              "        [ 9.67948422e-01, -4.99486216e-01],\n",
              "        [ 0.00000000e+00,  5.00000000e-01],\n",
              "        [ 4.04783343e-01,  9.14412623e-01],\n",
              "        [ 9.97945393e-01,  6.40702200e-02],\n",
              "        [ 2.00000000e+00,  5.00000000e-01],\n",
              "        [ 1.67230089e+00, -2.40277997e-01],\n",
              "        [ 1.51839257e+00, -3.55142763e-01],\n",
              "        [ 9.67294863e-01,  2.53654584e-01]]),\n",
              " array([0, 0, 0, 0, 0, 1, 1, 0, 0, 1, 1, 0, 0, 1, 1, 1, 1, 0, 0, 0, 1, 0,\n",
              "        0, 1, 0, 1, 1, 1, 1, 1, 1, 0, 0, 0, 1, 1, 0, 0, 0, 1, 0, 0, 0, 0,\n",
              "        1, 0, 0, 0, 1, 1, 0, 1, 0, 1, 1, 1, 1, 0, 1, 1, 0, 0, 1, 1, 0, 0,\n",
              "        0, 0, 1, 1, 0, 1, 1, 1, 1, 0, 0, 1, 1, 1, 0, 1, 0, 0, 0, 1, 0, 1,\n",
              "        0, 1, 0, 1, 1, 1, 0, 0, 1, 1, 1, 0]))"
            ]
          },
          "metadata": {
            "tags": []
          },
          "execution_count": 3
        }
      ]
    },
    {
      "cell_type": "code",
      "metadata": {
        "id": "DZ7FAxO8mcLM"
      },
      "source": [
        "inputData = pd.DataFrame(data = data_[0])"
      ],
      "execution_count": 5,
      "outputs": []
    },
    {
      "cell_type": "code",
      "metadata": {
        "colab": {
          "base_uri": "https://localhost:8080/",
          "height": 204
        },
        "id": "pD3kQ2BWmgHW",
        "outputId": "8d3fe43c-5f02-4866-96a4-19cfdfa32129"
      },
      "source": [
        "inputData.head()"
      ],
      "execution_count": 6,
      "outputs": [
        {
          "output_type": "execute_result",
          "data": {
            "text/html": [
              "<div>\n",
              "<style scoped>\n",
              "    .dataframe tbody tr th:only-of-type {\n",
              "        vertical-align: middle;\n",
              "    }\n",
              "\n",
              "    .dataframe tbody tr th {\n",
              "        vertical-align: top;\n",
              "    }\n",
              "\n",
              "    .dataframe thead th {\n",
              "        text-align: right;\n",
              "    }\n",
              "</style>\n",
              "<table border=\"1\" class=\"dataframe\">\n",
              "  <thead>\n",
              "    <tr style=\"text-align: right;\">\n",
              "      <th></th>\n",
              "      <th>0</th>\n",
              "      <th>1</th>\n",
              "    </tr>\n",
              "  </thead>\n",
              "  <tbody>\n",
              "    <tr>\n",
              "      <th>0</th>\n",
              "      <td>-0.838088</td>\n",
              "      <td>0.545535</td>\n",
              "    </tr>\n",
              "    <tr>\n",
              "      <th>1</th>\n",
              "      <td>1.000000</td>\n",
              "      <td>0.000000</td>\n",
              "    </tr>\n",
              "    <tr>\n",
              "      <th>2</th>\n",
              "      <td>0.672301</td>\n",
              "      <td>0.740278</td>\n",
              "    </tr>\n",
              "    <tr>\n",
              "      <th>3</th>\n",
              "      <td>0.991790</td>\n",
              "      <td>0.127877</td>\n",
              "    </tr>\n",
              "    <tr>\n",
              "      <th>4</th>\n",
              "      <td>-0.900969</td>\n",
              "      <td>0.433884</td>\n",
              "    </tr>\n",
              "  </tbody>\n",
              "</table>\n",
              "</div>"
            ],
            "text/plain": [
              "          0         1\n",
              "0 -0.838088  0.545535\n",
              "1  1.000000  0.000000\n",
              "2  0.672301  0.740278\n",
              "3  0.991790  0.127877\n",
              "4 -0.900969  0.433884"
            ]
          },
          "metadata": {
            "tags": []
          },
          "execution_count": 6
        }
      ]
    },
    {
      "cell_type": "code",
      "metadata": {
        "colab": {
          "base_uri": "https://localhost:8080/",
          "height": 282
        },
        "id": "PDcwjZsFmlpJ",
        "outputId": "c1c5431f-9e35-42cd-b6d5-d626176ccc81"
      },
      "source": [
        "plt.scatter(inputData[0], inputData[1])"
      ],
      "execution_count": 7,
      "outputs": [
        {
          "output_type": "execute_result",
          "data": {
            "text/plain": [
              "<matplotlib.collections.PathCollection at 0x7f8c5f17dfd0>"
            ]
          },
          "metadata": {
            "tags": []
          },
          "execution_count": 7
        },
        {
          "output_type": "display_data",
          "data": {
            "image/png": "[encoded data removed]",
            "text/plain": [
              "<Figure size 432x288 with 1 Axes>"
            ]
          },
          "metadata": {
            "tags": [],
            "needs_background": "light"
          }
        }
      ]
    },
    {
      "cell_type": "code",
      "metadata": {
        "colab": {
          "base_uri": "https://localhost:8080/",
          "height": 204
        },
        "id": "QonD5BWemmxN",
        "outputId": "eb25ccb3-a0b6-431e-b94b-5a1ee32c5b27"
      },
      "source": [
        "outputData = pd.DataFrame(data = data_[1])\n",
        "outputData.head()"
      ],
      "execution_count": 8,
      "outputs": [
        {
          "output_type": "execute_result",
          "data": {
            "text/html": [
              "<div>\n",
              "<style scoped>\n",
              "    .dataframe tbody tr th:only-of-type {\n",
              "        vertical-align: middle;\n",
              "    }\n",
              "\n",
              "    .dataframe tbody tr th {\n",
              "        vertical-align: top;\n",
              "    }\n",
              "\n",
              "    .dataframe thead th {\n",
              "        text-align: right;\n",
              "    }\n",
              "</style>\n",
              "<table border=\"1\" class=\"dataframe\">\n",
              "  <thead>\n",
              "    <tr style=\"text-align: right;\">\n",
              "      <th></th>\n",
              "      <th>0</th>\n",
              "    </tr>\n",
              "  </thead>\n",
              "  <tbody>\n",
              "    <tr>\n",
              "      <th>0</th>\n",
              "      <td>0</td>\n",
              "    </tr>\n",
              "    <tr>\n",
              "      <th>1</th>\n",
              "      <td>0</td>\n",
              "    </tr>\n",
              "    <tr>\n",
              "      <th>2</th>\n",
              "      <td>0</td>\n",
              "    </tr>\n",
              "    <tr>\n",
              "      <th>3</th>\n",
              "      <td>0</td>\n",
              "    </tr>\n",
              "    <tr>\n",
              "      <th>4</th>\n",
              "      <td>0</td>\n",
              "    </tr>\n",
              "  </tbody>\n",
              "</table>\n",
              "</div>"
            ],
            "text/plain": [
              "   0\n",
              "0  0\n",
              "1  0\n",
              "2  0\n",
              "3  0\n",
              "4  0"
            ]
          },
          "metadata": {
            "tags": []
          },
          "execution_count": 8
        }
      ]
    },
    {
      "cell_type": "code",
      "metadata": {
        "colab": {
          "base_uri": "https://localhost:8080/",
          "height": 282
        },
        "id": "3fKaVJiLmqhu",
        "outputId": "5d54d320-92b6-4837-aa2e-11d99f131c46"
      },
      "source": [
        "plt.scatter(inputData[0], inputData[1], c = outputData)"
      ],
      "execution_count": 9,
      "outputs": [
        {
          "output_type": "execute_result",
          "data": {
            "text/plain": [
              "<matplotlib.collections.PathCollection at 0x7f8c5ec75c50>"
            ]
          },
          "metadata": {
            "tags": []
          },
          "execution_count": 9
        },
        {
          "output_type": "display_data",
          "data": {
            "image/png": "[encoded data removed]",
            "text/plain": [
              "<Figure size 432x288 with 1 Axes>"
            ]
          },
          "metadata": {
            "tags": [],
            "needs_background": "light"
          }
        }
      ]
    },
    {
      "cell_type": "code",
      "metadata": {
        "colab": {
          "base_uri": "https://localhost:8080/"
        },
        "id": "U40jOHn8mvAr",
        "outputId": "54dfd9d2-d850-4049-9442-3cafbfe6c558"
      },
      "source": [
        "from sklearn.cluster import KMeans\n",
        "\n",
        "model = KMeans(n_clusters=7)   #silhouette_score is more for cluster value n=7 & 8\n",
        "model.fit(inputData)"
      ],
      "execution_count": 10,
      "outputs": [
        {
          "output_type": "execute_result",
          "data": {
            "text/plain": [
              "KMeans(algorithm='auto', copy_x=True, init='k-means++', max_iter=300,\n",
              "       n_clusters=7, n_init=10, n_jobs=None, precompute_distances='auto',\n",
              "       random_state=None, tol=0.0001, verbose=0)"
            ]
          },
          "metadata": {
            "tags": []
          },
          "execution_count": 10
        }
      ]
    },
    {
      "cell_type": "code",
      "metadata": {
        "colab": {
          "base_uri": "https://localhost:8080/"
        },
        "id": "KPHJtvrUmzsQ",
        "outputId": "3a901793-50ef-4af0-d774-b2305916dfec"
      },
      "source": [
        "model.labels_"
      ],
      "execution_count": 11,
      "outputs": [
        {
          "output_type": "execute_result",
          "data": {
            "text/plain": [
              "array([3, 1, 1, 1, 3, 2, 5, 6, 1, 2, 5, 3, 1, 0, 5, 4, 5, 3, 3, 3, 2, 3,\n",
              "       6, 0, 1, 4, 2, 0, 2, 4, 5, 1, 3, 3, 0, 2, 6, 6, 6, 4, 6, 1, 1, 6,\n",
              "       0, 6, 1, 6, 0, 2, 6, 5, 3, 5, 4, 4, 0, 3, 4, 5, 6, 1, 5, 0, 6, 1,\n",
              "       6, 3, 2, 2, 3, 2, 4, 4, 4, 3, 1, 4, 0, 4, 6, 5, 6, 3, 3, 5, 3, 0,\n",
              "       3, 2, 6, 0, 4, 0, 6, 1, 2, 5, 5, 1], dtype=int32)"
            ]
          },
          "metadata": {
            "tags": []
          },
          "execution_count": 11
        }
      ]
    },
    {
      "cell_type": "code",
      "metadata": {
        "id": "JJ46Y-A0m21i"
      },
      "source": [
        "from sklearn import metrics"
      ],
      "execution_count": 12,
      "outputs": []
    },
    {
      "cell_type": "code",
      "metadata": {
        "colab": {
          "base_uri": "https://localhost:8080/"
        },
        "id": "a6OrE96Dm6Ri",
        "outputId": "b8e38175-cc24-4709-8905-a8bf4631f01c"
      },
      "source": [
        "metrics.silhouette_score(inputData, model.labels_)"
      ],
      "execution_count": 13,
      "outputs": [
        {
          "output_type": "execute_result",
          "data": {
            "text/plain": [
              "0.5099160314454811"
            ]
          },
          "metadata": {
            "tags": []
          },
          "execution_count": 13
        }
      ]
    },
    {
      "cell_type": "code",
      "metadata": {
        "colab": {
          "base_uri": "https://localhost:8080/",
          "height": 282
        },
        "id": "Krl2JIrAm9Fo",
        "outputId": "5ab5cfee-6bef-4dbf-c777-265aa41f4fa2"
      },
      "source": [
        "plt.scatter(inputData[0], inputData[1], c = model.labels_)"
      ],
      "execution_count": 15,
      "outputs": [
        {
          "output_type": "execute_result",
          "data": {
            "text/plain": [
              "<matplotlib.collections.PathCollection at 0x7f8c5211c490>"
            ]
          },
          "metadata": {
            "tags": []
          },
          "execution_count": 15
        },
        {
          "output_type": "display_data",
          "data": {
            "image/png": "[encoded data removed]",
            "text/plain": [
              "<Figure size 432x288 with 1 Axes>"
            ]
          },
          "metadata": {
            "tags": [],
            "needs_background": "light"
          }
        }
      ]
    },
    {
      "cell_type": "code",
      "metadata": {
        "id": "9mnmW4X9nAiH"
      },
      "source": [
        "cluster_range = range(1, 20)\n",
        "error_list = []\n",
        "\n",
        "for i in cluster_range:\n",
        "    model = KMeans(n_clusters=i)\n",
        "    model.fit(inputData)\n",
        "    res = model.inertia_\n",
        "    error_list.append(res)"
      ],
      "execution_count": 16,
      "outputs": []
    },
    {
      "cell_type": "code",
      "metadata": {
        "colab": {
          "base_uri": "https://localhost:8080/",
          "height": 295
        },
        "id": "Mld7fUHTnF58",
        "outputId": "0e979991-d320-4093-9058-ebcef400d5df"
      },
      "source": [
        "import matplotlib.pyplot as plt\n",
        "\n",
        "plt.plot(cluster_range, error_list, marker = \"o\", color = \"g\", markersize = 10)\n",
        "plt.xlabel(\"Cluster Range\")\n",
        "plt.ylabel(\"IntraCluster Sum\")\n",
        "plt.title(\"KMeans\")\n",
        "plt.show()"
      ],
      "execution_count": 17,
      "outputs": [
        {
          "output_type": "display_data",
          "data": {
            "image/png": "[encoded data removed]",
            "text/plain": [
              "<Figure size 432x288 with 1 Axes>"
            ]
          },
          "metadata": {
            "tags": [],
            "needs_background": "light"
          }
        }
      ]
    }
  ]
}